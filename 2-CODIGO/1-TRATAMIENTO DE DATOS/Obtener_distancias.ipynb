{
 "cells": [
  {
   "cell_type": "markdown",
   "id": "5ca6a434",
   "metadata": {},
   "source": [
    "# OBTENCIÓN DISTANCIAS\n",
    "\n",
    "En este *notebook*, se muestra como calcular las matrices de tiempo y distancia entre estaciones utilizando la versión gratuita de la API de Google Maps."
   ]
  },
  {
   "cell_type": "code",
   "execution_count": null,
   "id": "6f88188b-5f72-47d7-a4f0-c58fc50bfa8a",
   "metadata": {},
   "outputs": [],
   "source": [
    "import requests\n",
    "import numpy as np\n",
    "import pandas as pd\n",
    "import time"
   ]
  },
  {
   "cell_type": "markdown",
   "id": "7c2505c3",
   "metadata": {},
   "source": [
    "Para el cálculo, se necesita cargar un conjunto de datos con esta estructura:"
   ]
  },
  {
   "cell_type": "code",
   "execution_count": 6,
   "id": "5d8b8943-f386-4931-93ca-dccaf5c0bfff",
   "metadata": {},
   "outputs": [
    {
     "data": {
      "text/html": [
       "<div>\n",
       "<style scoped>\n",
       "    .dataframe tbody tr th:only-of-type {\n",
       "        vertical-align: middle;\n",
       "    }\n",
       "\n",
       "    .dataframe tbody tr th {\n",
       "        vertical-align: top;\n",
       "    }\n",
       "\n",
       "    .dataframe thead th {\n",
       "        text-align: right;\n",
       "    }\n",
       "</style>\n",
       "<table border=\"1\" class=\"dataframe\">\n",
       "  <thead>\n",
       "    <tr style=\"text-align: right;\">\n",
       "      <th></th>\n",
       "      <th>station_id</th>\n",
       "      <th>lat</th>\n",
       "      <th>lon</th>\n",
       "    </tr>\n",
       "  </thead>\n",
       "  <tbody>\n",
       "    <tr>\n",
       "      <th>0</th>\n",
       "      <td>1.0</td>\n",
       "      <td>41.397978</td>\n",
       "      <td>2.180107</td>\n",
       "    </tr>\n",
       "    <tr>\n",
       "      <th>1</th>\n",
       "      <td>2.0</td>\n",
       "      <td>41.395488</td>\n",
       "      <td>2.177198</td>\n",
       "    </tr>\n",
       "    <tr>\n",
       "      <th>2</th>\n",
       "      <td>3.0</td>\n",
       "      <td>41.394156</td>\n",
       "      <td>2.181331</td>\n",
       "    </tr>\n",
       "    <tr>\n",
       "      <th>3</th>\n",
       "      <td>4.0</td>\n",
       "      <td>41.393317</td>\n",
       "      <td>2.181248</td>\n",
       "    </tr>\n",
       "    <tr>\n",
       "      <th>4</th>\n",
       "      <td>5.0</td>\n",
       "      <td>41.391103</td>\n",
       "      <td>2.180176</td>\n",
       "    </tr>\n",
       "  </tbody>\n",
       "</table>\n",
       "</div>"
      ],
      "text/plain": [
       "   station_id        lat       lon\n",
       "0         1.0  41.397978  2.180107\n",
       "1         2.0  41.395488  2.177198\n",
       "2         3.0  41.394156  2.181331\n",
       "3         4.0  41.393317  2.181248\n",
       "4         5.0  41.391103  2.180176"
      ]
     },
     "execution_count": 6,
     "metadata": {},
     "output_type": "execute_result"
    }
   ],
   "source": [
    "datos.head(5)"
   ]
  },
  {
   "cell_type": "code",
   "execution_count": null,
   "id": "a8f08e94-2714-4504-b9c3-899d541c5c29",
   "metadata": {},
   "outputs": [],
   "source": [
    "stations = datos.copy()\n",
    "\n",
    "# API Key (sustitúyela por tu propia clave)\n",
    "api_key = \"\"\n",
    "\n",
    "# Generar lista de ubicaciones\n",
    "locations = [f\"{row['lat']},{row['lon']}\" for _, row in stations.iterrows()]\n",
    "\n",
    "# Crear matrices vacías para distancias y tiempos\n",
    "n = len(stations)\n",
    "distance_matrix = np.zeros((n, n))\n",
    "time_matrix = np.zeros((n, n))\n",
    "\n",
    "# URL base para la API de Google\n",
    "base_url = \"https://maps.googleapis.com/maps/api/distancematrix/json\"\n",
    "\n",
    "# Función para dividir la lista en partes más pequeñas (máximo 10 orígenes y 10 destinos para evitar el límite de la API)\n",
    "def chunk_list(lst, chunk_size):\n",
    "    for i in range(0, len(lst), chunk_size):\n",
    "        yield lst[i:i + chunk_size]\n",
    "\n",
    "# Máximo permitido de elementos por solicitud (100 elementos, donde elementos = orígenes * destinos)\n",
    "max_origins_destinations = 10 \n",
    "\n",
    "# Hacer la consulta para cada grupo de estaciones\n",
    "for i_chunk in chunk_list(range(n), max_origins_destinations):\n",
    "    print(i_chunk)\n",
    "    origins = [locations[i] for i in i_chunk]\n",
    "    \n",
    "    for j_chunk in chunk_list(range(n), max_origins_destinations):\n",
    "        destinations = [locations[j] for j in j_chunk]\n",
    "        \n",
    "        # Parámetros para la solicitud\n",
    "        params = {\n",
    "            \"origins\": \"|\".join(origins),\n",
    "            \"destinations\": \"|\".join(destinations),\n",
    "            \"mode\": \"driving\",  \n",
    "            \"departure_time\": 'now',  \n",
    "            \"key\": api_key\n",
    "        }\n",
    "        \n",
    "        # Realizar la solicitud\n",
    "        response = requests.get(base_url, params=params)\n",
    "        result = response.json()\n",
    "\n",
    "        # Manejo de posibles errores en la respuesta\n",
    "        if result.get('status') == 'OK':\n",
    "            rows = result['rows']\n",
    "            for i_index, row in enumerate(rows):\n",
    "                elements = row['elements']\n",
    "                for j_index, element in enumerate(elements):\n",
    "                    if element['status'] == 'OK':\n",
    "                        distance = element['distance']['value']  # en metros\n",
    "                        duration = element['duration']['value']  # en segundos\n",
    "                        distance_matrix[i_chunk[i_index], j_chunk[j_index]] = distance\n",
    "                        time_matrix[i_chunk[i_index], j_chunk[j_index]] = duration\n",
    "                    else:\n",
    "                        print(f\"Error en el cálculo entre {origins[i_index]} y {destinations[j_index]}: {element['status']}\")\n",
    "        else:\n",
    "            print(f\"Error en la respuesta: {result.get('status')}\")\n",
    "        \n",
    "        # Agregar un pequeño retraso para evitar exceder los límites de la API\n",
    "        time.sleep(1)\n",
    "\n",
    "# Mostrar matrices\n",
    "station_ids = stations['station_id'].tolist()\n",
    "\n",
    "# Crear los DataFrames con los IDs correctos como índices y columnas\n",
    "distance_df = pd.DataFrame(distance_matrix, columns=station_ids, index=station_ids)\n",
    "time_df = pd.DataFrame(time_matrix, columns=station_ids, index=station_ids)\n",
    "\n",
    "# Mostrar los resultados\n",
    "print(\"Matriz de Distancias (en metros):\")\n",
    "print(distance_df)\n",
    "\n",
    "print(\"\\nMatriz de Tiempos (en segundos):\")\n",
    "print(time_df)"
   ]
  },
  {
   "cell_type": "code",
   "execution_count": null,
   "id": "16ecfbf6",
   "metadata": {},
   "outputs": [],
   "source": [
    "distance_df.to_csv('../../1-DATOS/2-DATOS PROCESADOS/DISTANCIAS/Matriz de distancias.csv')"
   ]
  },
  {
   "cell_type": "code",
   "execution_count": null,
   "id": "360ddc2b",
   "metadata": {},
   "outputs": [],
   "source": [
    "time_df.to_csv('../../1-DATOS/2-DATOS PROCESADOS/DISTANCIAS/Matriz de tiempos.csv')"
   ]
  }
 ],
 "metadata": {
  "kernelspec": {
   "display_name": "TFM_env",
   "language": "python",
   "name": "python3"
  },
  "language_info": {
   "codemirror_mode": {
    "name": "ipython",
    "version": 3
   },
   "file_extension": ".py",
   "mimetype": "text/x-python",
   "name": "python",
   "nbconvert_exporter": "python",
   "pygments_lexer": "ipython3",
   "version": "3.11.9"
  }
 },
 "nbformat": 4,
 "nbformat_minor": 5
}
