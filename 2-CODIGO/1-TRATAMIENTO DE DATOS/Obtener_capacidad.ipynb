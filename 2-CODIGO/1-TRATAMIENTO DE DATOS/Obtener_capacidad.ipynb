{
 "cells": [
  {
   "cell_type": "markdown",
   "id": "3f2a2532",
   "metadata": {},
   "source": [
    "# OBTENCIÓN CAPACIDAD\n",
    "En este *notebook*, se obtiene la capacidad de las estaciones de *Bicing* en Barcelona en Octubre de 2023. *Bicing* proporciona mensualmente esta información para controlar pequeños cambios en la capacidad de alguna estación. Sin embargo,en este proyecto, solo se utiliza la capacidad de las estaciones del día 1 de Octubre (en la parte de optimización)."
   ]
  },
  {
   "cell_type": "code",
   "execution_count": 10,
   "id": "73bcafd1-b086-4fa6-9157-48a9b4feb463",
   "metadata": {},
   "outputs": [
    {
     "data": {
      "text/html": [
       "<div>\n",
       "<style scoped>\n",
       "    .dataframe tbody tr th:only-of-type {\n",
       "        vertical-align: middle;\n",
       "    }\n",
       "\n",
       "    .dataframe tbody tr th {\n",
       "        vertical-align: top;\n",
       "    }\n",
       "\n",
       "    .dataframe thead th {\n",
       "        text-align: right;\n",
       "    }\n",
       "</style>\n",
       "<table border=\"1\" class=\"dataframe\">\n",
       "  <thead>\n",
       "    <tr style=\"text-align: right;\">\n",
       "      <th></th>\n",
       "      <th>station_id</th>\n",
       "      <th>capacity</th>\n",
       "    </tr>\n",
       "  </thead>\n",
       "  <tbody>\n",
       "    <tr>\n",
       "      <th>0</th>\n",
       "      <td>1</td>\n",
       "      <td>46</td>\n",
       "    </tr>\n",
       "    <tr>\n",
       "      <th>1</th>\n",
       "      <td>2</td>\n",
       "      <td>29</td>\n",
       "    </tr>\n",
       "    <tr>\n",
       "      <th>2</th>\n",
       "      <td>3</td>\n",
       "      <td>27</td>\n",
       "    </tr>\n",
       "    <tr>\n",
       "      <th>3</th>\n",
       "      <td>4</td>\n",
       "      <td>21</td>\n",
       "    </tr>\n",
       "    <tr>\n",
       "      <th>4</th>\n",
       "      <td>5</td>\n",
       "      <td>39</td>\n",
       "    </tr>\n",
       "  </tbody>\n",
       "</table>\n",
       "</div>"
      ],
      "text/plain": [
       "   station_id  capacity\n",
       "0           1        46\n",
       "1           2        29\n",
       "2           3        27\n",
       "3           4        21\n",
       "4           5        39"
      ]
     },
     "execution_count": 10,
     "metadata": {},
     "output_type": "execute_result"
    }
   ],
   "source": [
    "import pandas as pd\n",
    "\n",
    "file_path = '../../1-DATOS/2-DATOS PROCESADOS/BICING/INFORMACION/2023_10_Octubre_BicingNou_INFORMACIO.parquet'\n",
    "df_2024 = pd.read_parquet(file_path)\n",
    "df_2024_red = df_2024[['station_id', 'capacity']]\n",
    "df_sin_duplicados = df_2024_red.drop_duplicates(subset=['station_id'], keep='first').dropna(how='all')\n",
    "parquet_path_bikes = '../../1-DATOS/2-DATOS PROCESADOS/BICING/INFORMACION COMPLETA/'\n",
    "df_sin_duplicados.to_parquet(f'{parquet_path_bikes}CAPACIDAD.parquet')\n",
    "df_sin_duplicados.head(5)"
   ]
  }
 ],
 "metadata": {
  "kernelspec": {
   "display_name": "TFM_env",
   "language": "python",
   "name": "python3"
  },
  "language_info": {
   "codemirror_mode": {
    "name": "ipython",
    "version": 3
   },
   "file_extension": ".py",
   "mimetype": "text/x-python",
   "name": "python",
   "nbconvert_exporter": "python",
   "pygments_lexer": "ipython3",
   "version": "3.11.9"
  }
 },
 "nbformat": 4,
 "nbformat_minor": 5
}
