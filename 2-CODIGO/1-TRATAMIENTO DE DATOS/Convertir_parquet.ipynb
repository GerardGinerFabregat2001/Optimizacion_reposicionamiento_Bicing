{
 "cells": [
  {
   "cell_type": "markdown",
   "id": "d1694960",
   "metadata": {},
   "source": [
    "# CONVERSIÓN ARCHIVOS .CSV A .PARQUET"
   ]
  },
  {
   "cell_type": "markdown",
   "id": "0270c126",
   "metadata": {},
   "source": [
    "En este *notebook* se transforma el formato original de los archivos *Bicing* de .csv a .parquet, un formato que optimiza el almacenamiento y mejora la rapidez en las consultas. El ejemplo mostrado corresponde al año 2023; para procesar otros años, solamente se deben ajustar las rutas de carga y almacenamiento de los archivos."
   ]
  },
  {
   "cell_type": "code",
   "execution_count": 1,
   "id": "ee442985-0942-4719-affb-b0e8b0148600",
   "metadata": {},
   "outputs": [],
   "source": [
    "import pandas as pd\n",
    "import os\n",
    "\n",
    "## Ignore warnings\n",
    "import warnings\n",
    "warnings.filterwarnings(\"ignore\")"
   ]
  },
  {
   "cell_type": "code",
   "execution_count": 2,
   "id": "8d3192f4-7c47-40e5-82ab-4295c0c7ed4c",
   "metadata": {},
   "outputs": [
    {
     "name": "stdout",
     "output_type": "stream",
     "text": [
      "CPU times: total: 1min 20s\n",
      "Wall time: 1min 23s\n"
     ]
    }
   ],
   "source": [
    "%%time\n",
    "folder_path = \"../../1-DATOS/1-DATOS ORIGINALES/BICING/ESTACIONES/2023/\"\n",
    "\n",
    "# Listar todos los archivos en la carpeta que terminen en .csv\n",
    "csv_files = [f for f in os.listdir(folder_path) if f.endswith('.csv')]\n",
    "\n",
    "dataframes = []\n",
    "for file in csv_files:\n",
    "    file_path = os.path.join(folder_path, file)\n",
    "    df = pd.read_csv(file_path, low_memory=False)\n",
    "    dataframes.append(df)"
   ]
  },
  {
   "cell_type": "code",
   "execution_count": 3,
   "id": "cf87ac08-075b-469f-8b07-530ef1f79e79",
   "metadata": {},
   "outputs": [
    {
     "name": "stdout",
     "output_type": "stream",
     "text": [
      "CPU times: total: 9 s\n",
      "Wall time: 10.5 s\n"
     ]
    }
   ],
   "source": [
    "%%time \n",
    "data_bikes_available = []\n",
    "\n",
    "for df in dataframes:\n",
    "    df['last_updated'] = pd.to_datetime(df['last_updated'], unit = 's')\n",
    "    data_bikes_available.append(df[['station_id', 'num_bikes_available', 'last_updated']])"
   ]
  },
  {
   "cell_type": "code",
   "execution_count": 4,
   "id": "e2b77458-72a5-4ac5-832e-ae2ea4263354",
   "metadata": {},
   "outputs": [
    {
     "name": "stdout",
     "output_type": "stream",
     "text": [
      "CPU times: total: 51.8 s\n",
      "Wall time: 55 s\n"
     ]
    }
   ],
   "source": [
    "%%time \n",
    "data_bikes_available_wide = []\n",
    "\n",
    "for df in data_bikes_available:\n",
    "    df['last_updated'] = pd.to_datetime(df['last_updated'])\n",
    "    # Eliminar duplicados de 'station_id' y 'last_updated'\n",
    "    df_cleaned = df.drop_duplicates(subset=['station_id', 'last_updated']).dropna(how='all')\n",
    "    data_bikes_available_wide.append(df_cleaned.pivot(index='station_id', columns='last_updated', values='num_bikes_available'))"
   ]
  },
  {
   "cell_type": "code",
   "execution_count": null,
   "id": "cb21eddc-4a6b-485f-bbb8-b34ac9ccae8e",
   "metadata": {},
   "outputs": [
    {
     "name": "stdout",
     "output_type": "stream",
     "text": [
      "CPU times: total: 1min 4s\n",
      "Wall time: 1min 10s\n"
     ]
    }
   ],
   "source": [
    "%%time \n",
    "parquet_path_bikes = '../../1-DATOS/2-DATOS PROCESADOS/BICING/CANTIDAD BICICLETAS (MENSUAL)/2023/'\n",
    "\n",
    "# Guardar los archivos\n",
    "for i, df in enumerate(data_bikes_available_wide, start=1):\n",
    "    file_name_bikes = f'2023_{i:02d}_BICICLETAS_ESTACIONES.parquet'\n",
    "    df.to_parquet(f'{parquet_path_bikes}{file_name_bikes}')"
   ]
  }
 ],
 "metadata": {
  "kernelspec": {
   "display_name": "Python 3",
   "language": "python",
   "name": "python3"
  },
  "language_info": {
   "codemirror_mode": {
    "name": "ipython",
    "version": 3
   },
   "file_extension": ".py",
   "mimetype": "text/x-python",
   "name": "python",
   "nbconvert_exporter": "python",
   "pygments_lexer": "ipython3",
   "version": "3.11.9"
  }
 },
 "nbformat": 4,
 "nbformat_minor": 5
}
