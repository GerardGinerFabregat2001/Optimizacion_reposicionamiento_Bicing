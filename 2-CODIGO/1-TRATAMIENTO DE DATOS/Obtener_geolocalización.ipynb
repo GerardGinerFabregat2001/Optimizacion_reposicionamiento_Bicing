{
 "cells": [
  {
   "cell_type": "markdown",
   "id": "f30e1bee",
   "metadata": {},
   "source": [
    "# OBTENCIÓN GEOLOCALIZACIÓN\n",
    "\n",
    "En este *notebook*, se obtiene la localización de las estaciones de Bicing en Barcelona en Agosto de 2024. *Bicing* proporciona mensualmente esta información para controlar pequeños cambios en la ubicación de alguna estación. Sin embargo, en este proyecto se ha optado por trabajar con la ubicación más actual."
   ]
  },
  {
   "cell_type": "code",
   "execution_count": 4,
   "id": "73bcafd1-b086-4fa6-9157-48a9b4feb463",
   "metadata": {},
   "outputs": [
    {
     "data": {
      "text/html": [
       "<div>\n",
       "<style scoped>\n",
       "    .dataframe tbody tr th:only-of-type {\n",
       "        vertical-align: middle;\n",
       "    }\n",
       "\n",
       "    .dataframe tbody tr th {\n",
       "        vertical-align: top;\n",
       "    }\n",
       "\n",
       "    .dataframe thead th {\n",
       "        text-align: right;\n",
       "    }\n",
       "</style>\n",
       "<table border=\"1\" class=\"dataframe\">\n",
       "  <thead>\n",
       "    <tr style=\"text-align: right;\">\n",
       "      <th></th>\n",
       "      <th>station_id</th>\n",
       "      <th>name</th>\n",
       "      <th>lat</th>\n",
       "      <th>lon</th>\n",
       "      <th>altitude</th>\n",
       "      <th>address</th>\n",
       "      <th>post_code</th>\n",
       "    </tr>\n",
       "  </thead>\n",
       "  <tbody>\n",
       "    <tr>\n",
       "      <th>0</th>\n",
       "      <td>1.0</td>\n",
       "      <td>GRAN VIA CORTS CATALANES, 760</td>\n",
       "      <td>41.397978</td>\n",
       "      <td>2.180107</td>\n",
       "      <td>16.0</td>\n",
       "      <td>GRAN VIA CORTS CATALANES, 760</td>\n",
       "      <td>8013.0</td>\n",
       "    </tr>\n",
       "    <tr>\n",
       "      <th>1</th>\n",
       "      <td>2.0</td>\n",
       "      <td>C/ ROGER DE FLOR, 126</td>\n",
       "      <td>41.395488</td>\n",
       "      <td>2.177198</td>\n",
       "      <td>17.0</td>\n",
       "      <td>C/ ROGER DE FLOR, 126</td>\n",
       "      <td>8013.0</td>\n",
       "    </tr>\n",
       "    <tr>\n",
       "      <th>2</th>\n",
       "      <td>3.0</td>\n",
       "      <td>C/ NÀPOLS, 82</td>\n",
       "      <td>41.394156</td>\n",
       "      <td>2.181331</td>\n",
       "      <td>11.0</td>\n",
       "      <td>C/ NÀPOLS, 82</td>\n",
       "      <td>8013.0</td>\n",
       "    </tr>\n",
       "    <tr>\n",
       "      <th>3</th>\n",
       "      <td>4.0</td>\n",
       "      <td>C/ RIBES, 13</td>\n",
       "      <td>41.393317</td>\n",
       "      <td>2.181248</td>\n",
       "      <td>8.0</td>\n",
       "      <td>C/ RIBES, 13</td>\n",
       "      <td>8013.0</td>\n",
       "    </tr>\n",
       "    <tr>\n",
       "      <th>4</th>\n",
       "      <td>5.0</td>\n",
       "      <td>PG. LLUIS COMPANYS, 11 (ARC TRIOMF)</td>\n",
       "      <td>41.391103</td>\n",
       "      <td>2.180176</td>\n",
       "      <td>7.0</td>\n",
       "      <td>PG. LLUIS COMPANYS, 11 (ARC TRIOMF)</td>\n",
       "      <td>8018.0</td>\n",
       "    </tr>\n",
       "  </tbody>\n",
       "</table>\n",
       "</div>"
      ],
      "text/plain": [
       "   station_id                                 name        lat       lon  \\\n",
       "0         1.0        GRAN VIA CORTS CATALANES, 760  41.397978  2.180107   \n",
       "1         2.0                C/ ROGER DE FLOR, 126  41.395488  2.177198   \n",
       "2         3.0                        C/ NÀPOLS, 82  41.394156  2.181331   \n",
       "3         4.0                         C/ RIBES, 13  41.393317  2.181248   \n",
       "4         5.0  PG. LLUIS COMPANYS, 11 (ARC TRIOMF)  41.391103  2.180176   \n",
       "\n",
       "   altitude                              address  post_code  \n",
       "0      16.0        GRAN VIA CORTS CATALANES, 760     8013.0  \n",
       "1      17.0                C/ ROGER DE FLOR, 126     8013.0  \n",
       "2      11.0                        C/ NÀPOLS, 82     8013.0  \n",
       "3       8.0                         C/ RIBES, 13     8013.0  \n",
       "4       7.0  PG. LLUIS COMPANYS, 11 (ARC TRIOMF)     8018.0  "
      ]
     },
     "execution_count": 4,
     "metadata": {},
     "output_type": "execute_result"
    }
   ],
   "source": [
    "import pandas as pd\n",
    "\n",
    "file_path = '../../1-DATOS/1-DATOS ORIGINALES/BICING/INFORMACION/2024/2024_08_Agost_BicingNou_INFORMACIO.csv'\n",
    "df_2024 = pd.read_csv(file_path, low_memory=False)\n",
    "df_2024_red = df_2024[['station_id', 'name', 'lat', 'lon', 'altitude', 'address', 'post_code']]\n",
    "df_sin_duplicados = df_2024_red.drop_duplicates(subset=['station_id'], keep='first').dropna(how='all')\n",
    "parquet_path_bikes = '../../1-DATOS/2-DATOS PROCESADOS/BICING/INFORMACION COMPLETA/'\n",
    "df_sin_duplicados.to_parquet(f'{parquet_path_bikes}GEOLOCALIZACION.parquet')\n",
    "df_sin_duplicados.head(5)"
   ]
  }
 ],
 "metadata": {
  "kernelspec": {
   "display_name": "Python 3",
   "language": "python",
   "name": "python3"
  },
  "language_info": {
   "codemirror_mode": {
    "name": "ipython",
    "version": 3
   },
   "file_extension": ".py",
   "mimetype": "text/x-python",
   "name": "python",
   "nbconvert_exporter": "python",
   "pygments_lexer": "ipython3",
   "version": "3.11.9"
  }
 },
 "nbformat": 4,
 "nbformat_minor": 5
}
