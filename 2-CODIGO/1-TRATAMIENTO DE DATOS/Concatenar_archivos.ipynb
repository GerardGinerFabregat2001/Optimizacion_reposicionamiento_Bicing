{
 "cells": [
  {
   "cell_type": "markdown",
   "id": "e6a5161b",
   "metadata": {},
   "source": [
    "# CONCATENAR FICHEROS\n",
    "\n",
    "En este *notebook* se implementa la concatenación de todos los archivos .parquet de los que se dispone. "
   ]
  },
  {
   "cell_type": "code",
   "execution_count": 1,
   "id": "ac32adae-2776-47f2-a4ad-24862b661fc9",
   "metadata": {},
   "outputs": [],
   "source": [
    "import os\n",
    "import pandas as pd"
   ]
  },
  {
   "cell_type": "code",
   "execution_count": 2,
   "id": "1ca38938-440d-49c3-a607-cc9e60ba6cfd",
   "metadata": {},
   "outputs": [],
   "source": [
    "def concatenar(dataframes):\n",
    "    df_concatenado = dataframes[0]\n",
    "\n",
    "    for i in range(1, len(dataframes)):\n",
    "        print(f'Llevamos {i} archivos de {len(dataframes)-1}')\n",
    "        ultima_fecha = df_concatenado.columns.max()\n",
    "        df_actual = dataframes[i]\n",
    "        columnas_filtradas = df_actual.columns[df_actual.columns > ultima_fecha]\n",
    "        df_filtrado = df_actual[columnas_filtradas]\n",
    "        df_concatenado = pd.concat([df_concatenado, df_filtrado], axis=1)\n",
    "\n",
    "    return df_concatenado"
   ]
  },
  {
   "cell_type": "code",
   "execution_count": 3,
   "id": "df77b703-e714-49d5-9137-293bdb92cbaf",
   "metadata": {},
   "outputs": [
    {
     "name": "stdout",
     "output_type": "stream",
     "text": [
      "2019\n",
      "2020\n",
      "2021\n",
      "2022\n",
      "2023\n",
      "2024\n",
      "CPU times: total: 2min 19s\n",
      "Wall time: 1min 39s\n"
     ]
    }
   ],
   "source": [
    "%%time\n",
    "\n",
    "years = range(2019, 2025)\n",
    "base_folder_path = '../../1-DATOS/2-DATOS PROCESADOS/BICING/CANTIDAD BICICLETAS (MENSUAL)/'\n",
    "all_dataframes = []\n",
    "\n",
    "for year in years:\n",
    "    print(year)\n",
    "    folder_path = os.path.join(base_folder_path, str(year))\n",
    "    \n",
    "    if os.path.exists(folder_path):\n",
    "        parquet_files = [f for f in os.listdir(folder_path) if f.endswith('.parquet')]\n",
    "\n",
    "        for file in parquet_files:\n",
    "            file_path = os.path.join(folder_path, file)\n",
    "            df = pd.read_parquet(file_path)\n",
    "            all_dataframes.append(df)\n",
    "    else:\n",
    "        print(f\"Carpeta para el año {year} no encontrada.\")"
   ]
  },
  {
   "cell_type": "code",
   "execution_count": null,
   "id": "43619db7-cf24-42ba-827c-1d64198e5eff",
   "metadata": {},
   "outputs": [
    {
     "name": "stdout",
     "output_type": "stream",
     "text": [
      "Llevamos 1 archivos de 65\n",
      "Llevamos 2 archivos de 65\n",
      "Llevamos 3 archivos de 65\n",
      "Llevamos 4 archivos de 65\n",
      "Llevamos 5 archivos de 65\n",
      "Llevamos 6 archivos de 65\n",
      "Llevamos 7 archivos de 65\n",
      "Llevamos 8 archivos de 65\n",
      "Llevamos 9 archivos de 65\n",
      "Llevamos 10 archivos de 65\n",
      "Llevamos 11 archivos de 65\n",
      "Llevamos 12 archivos de 65\n",
      "Llevamos 13 archivos de 65\n",
      "Llevamos 14 archivos de 65\n",
      "Llevamos 15 archivos de 65\n",
      "Llevamos 16 archivos de 65\n",
      "Llevamos 17 archivos de 65\n",
      "Llevamos 18 archivos de 65\n",
      "Llevamos 19 archivos de 65\n",
      "Llevamos 20 archivos de 65\n",
      "Llevamos 21 archivos de 65\n",
      "Llevamos 22 archivos de 65\n",
      "Llevamos 23 archivos de 65\n",
      "Llevamos 24 archivos de 65\n",
      "Llevamos 25 archivos de 65\n",
      "Llevamos 26 archivos de 65\n",
      "Llevamos 27 archivos de 65\n",
      "Llevamos 28 archivos de 65\n",
      "Llevamos 29 archivos de 65\n",
      "Llevamos 30 archivos de 65\n",
      "Llevamos 31 archivos de 65\n",
      "Llevamos 32 archivos de 65\n",
      "Llevamos 33 archivos de 65\n",
      "Llevamos 34 archivos de 65\n",
      "Llevamos 35 archivos de 65\n",
      "Llevamos 36 archivos de 65\n",
      "Llevamos 37 archivos de 65\n",
      "Llevamos 38 archivos de 65\n",
      "Llevamos 39 archivos de 65\n",
      "Llevamos 40 archivos de 65\n",
      "Llevamos 41 archivos de 65\n",
      "Llevamos 42 archivos de 65\n",
      "Llevamos 43 archivos de 65\n",
      "Llevamos 44 archivos de 65\n",
      "Llevamos 45 archivos de 65\n",
      "Llevamos 46 archivos de 65\n",
      "Llevamos 47 archivos de 65\n",
      "Llevamos 48 archivos de 65\n",
      "Llevamos 49 archivos de 65\n",
      "Llevamos 50 archivos de 65\n",
      "Llevamos 51 archivos de 65\n",
      "Llevamos 52 archivos de 65\n",
      "Llevamos 53 archivos de 65\n",
      "Llevamos 54 archivos de 65\n",
      "Llevamos 55 archivos de 65\n",
      "Llevamos 56 archivos de 65\n",
      "Llevamos 57 archivos de 65\n",
      "Llevamos 58 archivos de 65\n",
      "Llevamos 59 archivos de 65\n",
      "Llevamos 60 archivos de 65\n",
      "Llevamos 61 archivos de 65\n",
      "Llevamos 62 archivos de 65\n",
      "Llevamos 63 archivos de 65\n",
      "Llevamos 64 archivos de 65\n",
      "Llevamos 65 archivos de 65\n"
     ]
    }
   ],
   "source": [
    "df = concatenar(all_dataframes)\n",
    "df_transpuesto = df.T\n",
    "parquet_path_bikes = '../../1-DATOS/2-DATOS PROCESADOS/BICING/INFORMACION COMPLETA/'\n",
    "df_transpuesto.to_parquet(f'{parquet_path_bikes}BICICLETAS.parquet')"
   ]
  }
 ],
 "metadata": {
  "kernelspec": {
   "display_name": "Python 3",
   "language": "python",
   "name": "python3"
  },
  "language_info": {
   "codemirror_mode": {
    "name": "ipython",
    "version": 3
   },
   "file_extension": ".py",
   "mimetype": "text/x-python",
   "name": "python",
   "nbconvert_exporter": "python",
   "pygments_lexer": "ipython3",
   "version": "3.11.9"
  }
 },
 "nbformat": 4,
 "nbformat_minor": 5
}
