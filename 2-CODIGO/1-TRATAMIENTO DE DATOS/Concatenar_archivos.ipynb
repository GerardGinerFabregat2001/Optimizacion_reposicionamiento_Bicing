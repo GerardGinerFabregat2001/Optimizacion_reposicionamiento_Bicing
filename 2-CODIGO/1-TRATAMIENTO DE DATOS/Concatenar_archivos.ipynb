{
 "cells": [
  {
   "cell_type": "markdown",
   "id": "e6a5161b",
   "metadata": {},
   "source": [
    "# CONCATENAR FICHEROS\n",
    "\n",
    "En este *notebook* se implementa la concatenación de todos los archivos .parquet de los que se dispone. "
   ]
  },
  {
   "cell_type": "code",
   "execution_count": 1,
   "id": "ac32adae-2776-47f2-a4ad-24862b661fc9",
   "metadata": {},
   "outputs": [],
   "source": [
    "import os\n",
    "import pandas as pd"
   ]
  },
  {
   "cell_type": "code",
   "execution_count": 2,
   "id": "1ca38938-440d-49c3-a607-cc9e60ba6cfd",
   "metadata": {},
   "outputs": [],
   "source": [
    "def concatenar(dataframes):\n",
    "    df_concatenado = dataframes[0]\n",
    "\n",
    "    for i in range(1, len(dataframes)):\n",
    "        print(f'Concatenados {i} archivos de {len(dataframes)-1}')\n",
    "        ultima_fecha = df_concatenado.columns.max()\n",
    "        df_actual = dataframes[i]\n",
    "        columnas_filtradas = df_actual.columns[df_actual.columns > ultima_fecha]\n",
    "        df_filtrado = df_actual[columnas_filtradas]\n",
    "        df_concatenado = pd.concat([df_concatenado, df_filtrado], axis=1)\n",
    "\n",
    "    return df_concatenado"
   ]
  },
  {
   "cell_type": "code",
   "execution_count": 3,
   "id": "df77b703-e714-49d5-9137-293bdb92cbaf",
   "metadata": {},
   "outputs": [
    {
     "name": "stdout",
     "output_type": "stream",
     "text": [
      "2019\n",
      "2020\n",
      "2021\n",
      "2022\n",
      "2023\n",
      "2024\n",
      "CPU times: total: 2min 6s\n",
      "Wall time: 1min 36s\n"
     ]
    }
   ],
   "source": [
    "%%time\n",
    "\n",
    "years = range(2019, 2025)\n",
    "base_folder_path = '../../1-DATOS/2-DATOS PROCESADOS/BICING/CANTIDAD BICICLETAS (MENSUAL)/'\n",
    "all_dataframes = []\n",
    "\n",
    "for year in years:\n",
    "    print(year)\n",
    "    folder_path = os.path.join(base_folder_path, str(year))\n",
    "    \n",
    "    if os.path.exists(folder_path):\n",
    "        parquet_files = [f for f in os.listdir(folder_path) if f.endswith('.parquet')]\n",
    "\n",
    "        for file in parquet_files:\n",
    "            file_path = os.path.join(folder_path, file)\n",
    "            df = pd.read_parquet(file_path)\n",
    "            all_dataframes.append(df)\n",
    "    else:\n",
    "        print(f\"Carpeta para el año {year} no encontrada.\")"
   ]
  },
  {
   "cell_type": "code",
   "execution_count": 4,
   "id": "43619db7-cf24-42ba-827c-1d64198e5eff",
   "metadata": {},
   "outputs": [
    {
     "name": "stdout",
     "output_type": "stream",
     "text": [
      "Concatenados 1 archivos de 65\n",
      "Concatenados 2 archivos de 65\n",
      "Concatenados 3 archivos de 65\n",
      "Concatenados 4 archivos de 65\n",
      "Concatenados 5 archivos de 65\n",
      "Concatenados 6 archivos de 65\n",
      "Concatenados 7 archivos de 65\n",
      "Concatenados 8 archivos de 65\n",
      "Concatenados 9 archivos de 65\n",
      "Concatenados 10 archivos de 65\n",
      "Concatenados 11 archivos de 65\n",
      "Concatenados 12 archivos de 65\n",
      "Concatenados 13 archivos de 65\n",
      "Concatenados 14 archivos de 65\n",
      "Concatenados 15 archivos de 65\n",
      "Concatenados 16 archivos de 65\n",
      "Concatenados 17 archivos de 65\n",
      "Concatenados 18 archivos de 65\n",
      "Concatenados 19 archivos de 65\n",
      "Concatenados 20 archivos de 65\n",
      "Concatenados 21 archivos de 65\n",
      "Concatenados 22 archivos de 65\n",
      "Concatenados 23 archivos de 65\n",
      "Concatenados 24 archivos de 65\n",
      "Concatenados 25 archivos de 65\n",
      "Concatenados 26 archivos de 65\n",
      "Concatenados 27 archivos de 65\n",
      "Concatenados 28 archivos de 65\n",
      "Concatenados 29 archivos de 65\n",
      "Concatenados 30 archivos de 65\n",
      "Concatenados 31 archivos de 65\n",
      "Concatenados 32 archivos de 65\n",
      "Concatenados 33 archivos de 65\n",
      "Concatenados 34 archivos de 65\n",
      "Concatenados 35 archivos de 65\n",
      "Concatenados 36 archivos de 65\n",
      "Concatenados 37 archivos de 65\n",
      "Concatenados 38 archivos de 65\n",
      "Concatenados 39 archivos de 65\n",
      "Concatenados 40 archivos de 65\n",
      "Concatenados 41 archivos de 65\n",
      "Concatenados 42 archivos de 65\n",
      "Concatenados 43 archivos de 65\n",
      "Concatenados 44 archivos de 65\n",
      "Concatenados 45 archivos de 65\n",
      "Concatenados 46 archivos de 65\n",
      "Concatenados 47 archivos de 65\n",
      "Concatenados 48 archivos de 65\n",
      "Concatenados 49 archivos de 65\n",
      "Concatenados 50 archivos de 65\n",
      "Concatenados 51 archivos de 65\n",
      "Concatenados 52 archivos de 65\n",
      "Concatenados 53 archivos de 65\n",
      "Concatenados 54 archivos de 65\n",
      "Concatenados 55 archivos de 65\n",
      "Concatenados 56 archivos de 65\n",
      "Concatenados 57 archivos de 65\n",
      "Concatenados 58 archivos de 65\n",
      "Concatenados 59 archivos de 65\n",
      "Concatenados 60 archivos de 65\n",
      "Concatenados 61 archivos de 65\n",
      "Concatenados 62 archivos de 65\n",
      "Concatenados 63 archivos de 65\n",
      "Concatenados 64 archivos de 65\n",
      "Concatenados 65 archivos de 65\n"
     ]
    }
   ],
   "source": [
    "df = concatenar(all_dataframes)\n",
    "df_transpuesto = df.T\n",
    "parquet_path_bikes = '../../1-DATOS/2-DATOS PROCESADOS/BICING/INFORMACION COMPLETA/'\n",
    "df_transpuesto.to_parquet(f'{parquet_path_bikes}BICICLETAS.parquet', compression='gzip')"
   ]
  }
 ],
 "metadata": {
  "kernelspec": {
   "display_name": "Python 3",
   "language": "python",
   "name": "python3"
  },
  "language_info": {
   "codemirror_mode": {
    "name": "ipython",
    "version": 3
   },
   "file_extension": ".py",
   "mimetype": "text/x-python",
   "name": "python",
   "nbconvert_exporter": "python",
   "pygments_lexer": "ipython3",
   "version": "3.11.9"
  }
 },
 "nbformat": 4,
 "nbformat_minor": 5
}
