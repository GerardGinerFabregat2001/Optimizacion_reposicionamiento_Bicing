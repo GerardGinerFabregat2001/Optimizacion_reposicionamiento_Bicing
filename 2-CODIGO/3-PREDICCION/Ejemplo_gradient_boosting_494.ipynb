{
 "cells": [
  {
   "cell_type": "markdown",
   "id": "4be52f51",
   "metadata": {},
   "source": [
    "# Contenido\n",
    "\n",
    "1. **Carga de librerías y datos**\n",
    "    - 1.a. Librerías\n",
    "    - 1.b. Funciones\n",
    "    - 1.c. Carga de datos\n",
    "2. **Modelado**\n",
    "    - 2.a. Creación variables exógenas\n",
    "    - 2.b. Entrenamiento del modelo\n",
    "    - 2.c. Evaluación"
   ]
  },
  {
   "cell_type": "markdown",
   "id": "2757571d-76e7-4055-8ecf-8ea61e149544",
   "metadata": {},
   "source": [
    "\n",
    "# 1. Carga de librerías y datos"
   ]
  },
  {
   "cell_type": "markdown",
   "id": "2a49b2dc-1141-42f4-bab1-44a3ada9fbb6",
   "metadata": {},
   "source": [
    "##  1.a. Librerías"
   ]
  },
  {
   "cell_type": "code",
   "execution_count": 1,
   "id": "79af6a0d-f631-4ec8-b74a-35588db8e4cd",
   "metadata": {},
   "outputs": [
    {
     "data": {
      "text/html": [
       "        <script type=\"text/javascript\">\n",
       "        window.PlotlyConfig = {MathJaxConfig: 'local'};\n",
       "        if (window.MathJax && window.MathJax.Hub && window.MathJax.Hub.Config) {window.MathJax.Hub.Config({SVG: {font: \"STIX-Web\"}});}\n",
       "        if (typeof require !== 'undefined') {\n",
       "        require.undef(\"plotly\");\n",
       "        requirejs.config({\n",
       "            paths: {\n",
       "                'plotly': ['https://cdn.plot.ly/plotly-2.35.2.min']\n",
       "            }\n",
       "        });\n",
       "        require(['plotly'], function(Plotly) {\n",
       "            window._Plotly = Plotly;\n",
       "        });\n",
       "        }\n",
       "        </script>\n",
       "        "
      ]
     },
     "metadata": {},
     "output_type": "display_data"
    },
    {
     "name": "stdout",
     "output_type": "stream",
     "text": [
      "\u001b[1m\u001b[38;5;208mVersión skforecast: 0.13.0\n",
      "\u001b[1m\u001b[38;5;208mVersión scikit-learn: 1.6.0\n",
      "\u001b[1m\u001b[38;5;208mVersión lightgbm: 4.5.0\n",
      "\u001b[1m\u001b[38;5;208mVersión xgboost: 2.1.3\n",
      "\u001b[1m\u001b[38;5;208mVersión catboost: 1.2.7\n",
      "\u001b[1m\u001b[38;5;208mVersión pandas: 2.2.3\n",
      "\u001b[1m\u001b[38;5;208mVersión numpy: 1.26.4\n"
     ]
    }
   ],
   "source": [
    "# Configuración warnings\n",
    "# ==============================================================================\n",
    "import warnings\n",
    "warnings.filterwarnings('ignore')\n",
    "warnings.filterwarnings(\"ignore\", category=FutureWarning)\n",
    "\n",
    "# Tratamiento de datos\n",
    "# ==============================================================================\n",
    "import numpy as np\n",
    "import pandas as pd\n",
    "from astral.sun import sun\n",
    "from astral import LocationInfo\n",
    "from skforecast.datasets import fetch_dataset\n",
    "\n",
    "# Gráficos\n",
    "# ==============================================================================\n",
    "import matplotlib.pyplot as plt\n",
    "from statsmodels.graphics.tsaplots import plot_acf\n",
    "from statsmodels.graphics.tsaplots import plot_pacf\n",
    "from skforecast.plot import plot_residuals\n",
    "import plotly.graph_objects as go\n",
    "import plotly.io as pio\n",
    "import plotly.offline as poff\n",
    "pio.templates.default = \"seaborn\"\n",
    "poff.init_notebook_mode(connected=True)\n",
    "plt.style.use('seaborn-v0_8-darkgrid')\n",
    "\n",
    "# Modelado y Forecasting\n",
    "# ==============================================================================\n",
    "import xgboost\n",
    "import lightgbm\n",
    "import catboost\n",
    "import sklearn\n",
    "from xgboost import XGBRegressor\n",
    "from lightgbm import LGBMRegressor\n",
    "from catboost import CatBoostRegressor\n",
    "from sklearn.ensemble import HistGradientBoostingRegressor\n",
    "\n",
    "from sklearn.preprocessing import OneHotEncoder\n",
    "from sklearn.preprocessing import OrdinalEncoder\n",
    "from sklearn.preprocessing import FunctionTransformer\n",
    "from sklearn.preprocessing import PolynomialFeatures\n",
    "from sklearn.feature_selection import RFECV\n",
    "from sklearn.pipeline import make_pipeline\n",
    "from sklearn.compose import make_column_transformer\n",
    "from sklearn.compose import make_column_selector\n",
    "\n",
    "import skforecast\n",
    "from skforecast.ForecasterBaseline import ForecasterEquivalentDate\n",
    "from skforecast.ForecasterAutoreg import ForecasterAutoreg\n",
    "from skforecast.model_selection import bayesian_search_forecaster\n",
    "from skforecast.model_selection import backtesting_forecaster\n",
    "from skforecast.model_selection import select_features\n",
    "import shap\n",
    "\n",
    "from IPython.display import Image\n",
    "import plotly.io as pio\n",
    "\n",
    "color = '\\033[1m\\033[38;5;208m' \n",
    "print(f\"{color}Versión skforecast: {skforecast.__version__}\")\n",
    "print(f\"{color}Versión scikit-learn: {sklearn.__version__}\")\n",
    "print(f\"{color}Versión lightgbm: {lightgbm.__version__}\")\n",
    "print(f\"{color}Versión xgboost: {xgboost.__version__}\")\n",
    "print(f\"{color}Versión catboost: {catboost.__version__}\")\n",
    "print(f\"{color}Versión pandas: {pd.__version__}\")\n",
    "print(f\"{color}Versión numpy: {np.__version__}\")"
   ]
  },
  {
   "cell_type": "markdown",
   "id": "c1adfa6e-2825-4a31-820c-964c221e087a",
   "metadata": {},
   "source": [
    "\n",
    "##  1.b. Funciones\n"
   ]
  },
  {
   "cell_type": "code",
   "execution_count": 2,
   "id": "8c36aa03-345a-492d-afb1-27c26a3e5446",
   "metadata": {},
   "outputs": [],
   "source": [
    "def train_val_test(datos, fin_train, fin_val):\n",
    "    # Separación de datos en entrenamiento, validación y test\n",
    "    # ==============================================================================\n",
    "    datos_train = datos.loc[: fin_train]\n",
    "    datos_val   = datos.loc[fin_train:fin_val]\n",
    "    datos_test  = datos.loc[fin_val:]\n",
    "    print(\n",
    "        f\"Fechas train      : {datos_train.index.min()} --- {datos_train.index.max()}  \"\n",
    "        f\"(n={len(datos_train)})\"\n",
    "    )\n",
    "    print(\n",
    "        f\"Fechas validación : {datos_val.index.min()} --- {datos_val.index.max()}  \"\n",
    "        f\"(n={len(datos_val)})\"\n",
    "    )\n",
    "    print(\n",
    "        f\"Fechas test       : {datos_test.index.min()} --- {datos_test.index.max()}  \"\n",
    "        f\"(n={len(datos_test)})\"\n",
    "    )\n",
    "    return datos_train, datos_val, datos_test\n",
    "\n",
    "def imputar_nulos_por_hora(datos):\n",
    "    datos.index = pd.to_datetime(datos.index)\n",
    "    horas = datos.index.hour\n",
    "    \n",
    "    # Promedio por hora y sustitución el valores Nan\n",
    "    media_por_hora = datos.groupby(horas).transform('mean')\n",
    "    datos = datos.fillna(media_por_hora)\n",
    "    \n",
    "    return datos"
   ]
  },
  {
   "cell_type": "markdown",
   "id": "73071ee5-85de-4193-bbd9-4a4e8b437292",
   "metadata": {},
   "source": [
    "##  1.c. Carga de datos"
   ]
  },
  {
   "cell_type": "markdown",
   "id": "56675b44-2bc6-4366-98c9-b514973a91c9",
   "metadata": {},
   "source": [
    "Datos BICING:"
   ]
  },
  {
   "cell_type": "code",
   "execution_count": 3,
   "id": "340622f0-987a-4347-bf5d-18f150e5dad4",
   "metadata": {},
   "outputs": [],
   "source": [
    "df = pd.read_parquet('../../1-DATOS/2-DATOS PROCESADOS/BICING/INFORMACION COMPLETA/BICICLETAS_HORARIO_2022_2023_FILTRADO.parquet')\n",
    "datos = df[494]\n",
    "datos = imputar_nulos_por_hora(datos)"
   ]
  },
  {
   "cell_type": "code",
   "execution_count": 4,
   "id": "b134d87d-269c-4140-b6ef-f994ffe65a62",
   "metadata": {},
   "outputs": [
    {
     "name": "stdout",
     "output_type": "stream",
     "text": [
      "Fechas train      : 2022-01-01 00:00:00 --- 2023-04-30 23:00:00  (n=11640)\n",
      "Fechas validación : 2023-05-01 00:00:00 --- 2023-09-30 23:00:00  (n=3672)\n",
      "Fechas test       : 2023-10-01 00:00:00 --- 2023-12-31 23:00:00  (n=2208)\n"
     ]
    }
   ],
   "source": [
    "fin_train = '2023-04-30 23:59:00'\n",
    "fin_val = '2023-09-30 23:59:00'\n",
    "\n",
    "datos_train, datos_val, datos_test = train_val_test(datos, fin_train, fin_val)"
   ]
  },
  {
   "cell_type": "markdown",
   "id": "49e75374-d664-40e9-a0a9-61d261db9ece",
   "metadata": {},
   "source": [
    "#  2. Modelado"
   ]
  },
  {
   "cell_type": "markdown",
   "id": "98ffa42e-b36e-4bc8-98fb-f1f4c6aeeae7",
   "metadata": {},
   "source": [
    "## 2.a. Creación variables exógenas"
   ]
  },
  {
   "cell_type": "code",
   "execution_count": 5,
   "id": "cd08b35d-8d05-4ed6-b005-480bb9e85f7c",
   "metadata": {},
   "outputs": [],
   "source": [
    "from Creacion_exog import calculo_variables_exogenas"
   ]
  },
  {
   "cell_type": "code",
   "execution_count": 6,
   "id": "e0041bd3-11d6-44d7-b9e5-edb1652d7deb",
   "metadata": {
    "scrolled": true
   },
   "outputs": [],
   "source": [
    "# Convertir la serie a un DataFrame con el índice como FECHA\n",
    "datos = datos.to_frame(name='CANTIDAD')\n",
    "datos.index = pd.to_datetime(datos.index)\n",
    "datos = datos.asfreq('H')\n",
    "datos.index.name = 'FECHA'\n",
    "\n",
    "variables_exogenas = calculo_variables_exogenas(datos)"
   ]
  },
  {
   "cell_type": "code",
   "execution_count": 7,
   "id": "e5415bb8-e478-4403-80e5-2a0e78a5a4ad",
   "metadata": {},
   "outputs": [],
   "source": [
    "# Transformación: codificación ordinal + conversión a tipo \"category\"\n",
    "# ==============================================================================\n",
    "pipeline_categorical = make_pipeline(\n",
    "    OrdinalEncoder(\n",
    "        dtype=int,\n",
    "        handle_unknown=\"use_encoded_value\",\n",
    "        unknown_value=-1,\n",
    "        encoded_missing_value=-1\n",
    "    ),\n",
    "    FunctionTransformer(\n",
    "        func=lambda x: x.astype('category'),\n",
    "        feature_names_out= 'one-to-one'\n",
    "    )\n",
    ")\n",
    "\n",
    "transformer_exog = make_column_transformer(\n",
    "    (\n",
    "        pipeline_categorical,\n",
    "        make_column_selector(dtype_include=['category', 'object']),\n",
    "    ),\n",
    "    remainder=\"passthrough\",\n",
    "    verbose_feature_names_out=False,\n",
    ").set_output(transform=\"pandas\")"
   ]
  },
  {
   "cell_type": "code",
   "execution_count": 8,
   "id": "33a7f36f-0555-477c-896c-9db961ea1a86",
   "metadata": {},
   "outputs": [
    {
     "data": {
      "text/html": [
       "<div>\n",
       "<style scoped>\n",
       "    .dataframe tbody tr th:only-of-type {\n",
       "        vertical-align: middle;\n",
       "    }\n",
       "\n",
       "    .dataframe tbody tr th {\n",
       "        vertical-align: top;\n",
       "    }\n",
       "\n",
       "    .dataframe thead th {\n",
       "        text-align: right;\n",
       "    }\n",
       "</style>\n",
       "<table border=\"1\" class=\"dataframe\">\n",
       "  <thead>\n",
       "    <tr style=\"text-align: right;\">\n",
       "      <th></th>\n",
       "      <th>mes_seno</th>\n",
       "      <th>mes_coseno</th>\n",
       "      <th>semana_anyo_seno</th>\n",
       "      <th>semana_anyo_coseno</th>\n",
       "      <th>dia_semana_seno</th>\n",
       "      <th>dia_semana_coseno</th>\n",
       "      <th>hora_dia_seno</th>\n",
       "      <th>hora_dia_coseno</th>\n",
       "      <th>hora_amanecer_seno</th>\n",
       "      <th>hora_amanecer_coseno</th>\n",
       "      <th>...</th>\n",
       "      <th>poly_hora_dia_coseno__hora_anochecer_coseno</th>\n",
       "      <th>poly_hora_amanecer_seno__hora_amanecer_coseno</th>\n",
       "      <th>poly_hora_amanecer_seno__hora_anochecer_seno</th>\n",
       "      <th>poly_hora_amanecer_seno__hora_anochecer_coseno</th>\n",
       "      <th>poly_hora_amanecer_coseno__hora_anochecer_seno</th>\n",
       "      <th>poly_hora_amanecer_coseno__hora_anochecer_coseno</th>\n",
       "      <th>poly_hora_anochecer_seno__hora_anochecer_coseno</th>\n",
       "      <th>festivo_dia_anterior</th>\n",
       "      <th>festivo_dia_siguiente</th>\n",
       "      <th>FESTIVO</th>\n",
       "    </tr>\n",
       "    <tr>\n",
       "      <th>FECHA</th>\n",
       "      <th></th>\n",
       "      <th></th>\n",
       "      <th></th>\n",
       "      <th></th>\n",
       "      <th></th>\n",
       "      <th></th>\n",
       "      <th></th>\n",
       "      <th></th>\n",
       "      <th></th>\n",
       "      <th></th>\n",
       "      <th></th>\n",
       "      <th></th>\n",
       "      <th></th>\n",
       "      <th></th>\n",
       "      <th></th>\n",
       "      <th></th>\n",
       "      <th></th>\n",
       "      <th></th>\n",
       "      <th></th>\n",
       "      <th></th>\n",
       "      <th></th>\n",
       "    </tr>\n",
       "  </thead>\n",
       "  <tbody>\n",
       "    <tr>\n",
       "      <th>2022-01-01 00:00:00</th>\n",
       "      <td>0.5</td>\n",
       "      <td>0.866025</td>\n",
       "      <td>0.0</td>\n",
       "      <td>1.0</td>\n",
       "      <td>-0.781831</td>\n",
       "      <td>0.62349</td>\n",
       "      <td>0.258819</td>\n",
       "      <td>0.965926</td>\n",
       "      <td>0.866025</td>\n",
       "      <td>-0.5</td>\n",
       "      <td>...</td>\n",
       "      <td>NaN</td>\n",
       "      <td>NaN</td>\n",
       "      <td>NaN</td>\n",
       "      <td>NaN</td>\n",
       "      <td>NaN</td>\n",
       "      <td>NaN</td>\n",
       "      <td>NaN</td>\n",
       "      <td>NaN</td>\n",
       "      <td>0.0</td>\n",
       "      <td>1</td>\n",
       "    </tr>\n",
       "    <tr>\n",
       "      <th>2022-01-01 01:00:00</th>\n",
       "      <td>0.5</td>\n",
       "      <td>0.866025</td>\n",
       "      <td>0.0</td>\n",
       "      <td>1.0</td>\n",
       "      <td>-0.781831</td>\n",
       "      <td>0.62349</td>\n",
       "      <td>0.500000</td>\n",
       "      <td>0.866025</td>\n",
       "      <td>0.866025</td>\n",
       "      <td>-0.5</td>\n",
       "      <td>...</td>\n",
       "      <td>NaN</td>\n",
       "      <td>NaN</td>\n",
       "      <td>NaN</td>\n",
       "      <td>NaN</td>\n",
       "      <td>NaN</td>\n",
       "      <td>NaN</td>\n",
       "      <td>NaN</td>\n",
       "      <td>NaN</td>\n",
       "      <td>0.0</td>\n",
       "      <td>1</td>\n",
       "    </tr>\n",
       "    <tr>\n",
       "      <th>2022-01-01 02:00:00</th>\n",
       "      <td>0.5</td>\n",
       "      <td>0.866025</td>\n",
       "      <td>0.0</td>\n",
       "      <td>1.0</td>\n",
       "      <td>-0.781831</td>\n",
       "      <td>0.62349</td>\n",
       "      <td>0.707107</td>\n",
       "      <td>0.707107</td>\n",
       "      <td>0.866025</td>\n",
       "      <td>-0.5</td>\n",
       "      <td>...</td>\n",
       "      <td>NaN</td>\n",
       "      <td>NaN</td>\n",
       "      <td>NaN</td>\n",
       "      <td>NaN</td>\n",
       "      <td>NaN</td>\n",
       "      <td>NaN</td>\n",
       "      <td>NaN</td>\n",
       "      <td>NaN</td>\n",
       "      <td>0.0</td>\n",
       "      <td>1</td>\n",
       "    </tr>\n",
       "  </tbody>\n",
       "</table>\n",
       "<p>3 rows × 81 columns</p>\n",
       "</div>"
      ],
      "text/plain": [
       "                     mes_seno  mes_coseno  semana_anyo_seno  \\\n",
       "FECHA                                                         \n",
       "2022-01-01 00:00:00       0.5    0.866025               0.0   \n",
       "2022-01-01 01:00:00       0.5    0.866025               0.0   \n",
       "2022-01-01 02:00:00       0.5    0.866025               0.0   \n",
       "\n",
       "                     semana_anyo_coseno  dia_semana_seno  dia_semana_coseno  \\\n",
       "FECHA                                                                         \n",
       "2022-01-01 00:00:00                 1.0        -0.781831            0.62349   \n",
       "2022-01-01 01:00:00                 1.0        -0.781831            0.62349   \n",
       "2022-01-01 02:00:00                 1.0        -0.781831            0.62349   \n",
       "\n",
       "                     hora_dia_seno  hora_dia_coseno  hora_amanecer_seno  \\\n",
       "FECHA                                                                     \n",
       "2022-01-01 00:00:00       0.258819         0.965926            0.866025   \n",
       "2022-01-01 01:00:00       0.500000         0.866025            0.866025   \n",
       "2022-01-01 02:00:00       0.707107         0.707107            0.866025   \n",
       "\n",
       "                     hora_amanecer_coseno  ...  \\\n",
       "FECHA                                      ...   \n",
       "2022-01-01 00:00:00                  -0.5  ...   \n",
       "2022-01-01 01:00:00                  -0.5  ...   \n",
       "2022-01-01 02:00:00                  -0.5  ...   \n",
       "\n",
       "                     poly_hora_dia_coseno__hora_anochecer_coseno  \\\n",
       "FECHA                                                              \n",
       "2022-01-01 00:00:00                                          NaN   \n",
       "2022-01-01 01:00:00                                          NaN   \n",
       "2022-01-01 02:00:00                                          NaN   \n",
       "\n",
       "                     poly_hora_amanecer_seno__hora_amanecer_coseno  \\\n",
       "FECHA                                                                \n",
       "2022-01-01 00:00:00                                            NaN   \n",
       "2022-01-01 01:00:00                                            NaN   \n",
       "2022-01-01 02:00:00                                            NaN   \n",
       "\n",
       "                     poly_hora_amanecer_seno__hora_anochecer_seno  \\\n",
       "FECHA                                                               \n",
       "2022-01-01 00:00:00                                           NaN   \n",
       "2022-01-01 01:00:00                                           NaN   \n",
       "2022-01-01 02:00:00                                           NaN   \n",
       "\n",
       "                     poly_hora_amanecer_seno__hora_anochecer_coseno  \\\n",
       "FECHA                                                                 \n",
       "2022-01-01 00:00:00                                             NaN   \n",
       "2022-01-01 01:00:00                                             NaN   \n",
       "2022-01-01 02:00:00                                             NaN   \n",
       "\n",
       "                     poly_hora_amanecer_coseno__hora_anochecer_seno  \\\n",
       "FECHA                                                                 \n",
       "2022-01-01 00:00:00                                             NaN   \n",
       "2022-01-01 01:00:00                                             NaN   \n",
       "2022-01-01 02:00:00                                             NaN   \n",
       "\n",
       "                     poly_hora_amanecer_coseno__hora_anochecer_coseno  \\\n",
       "FECHA                                                                   \n",
       "2022-01-01 00:00:00                                               NaN   \n",
       "2022-01-01 01:00:00                                               NaN   \n",
       "2022-01-01 02:00:00                                               NaN   \n",
       "\n",
       "                     poly_hora_anochecer_seno__hora_anochecer_coseno  \\\n",
       "FECHA                                                                  \n",
       "2022-01-01 00:00:00                                              NaN   \n",
       "2022-01-01 01:00:00                                              NaN   \n",
       "2022-01-01 02:00:00                                              NaN   \n",
       "\n",
       "                     festivo_dia_anterior  festivo_dia_siguiente  FESTIVO  \n",
       "FECHA                                                                      \n",
       "2022-01-01 00:00:00                   NaN                    0.0        1  \n",
       "2022-01-01 01:00:00                   NaN                    0.0        1  \n",
       "2022-01-01 02:00:00                   NaN                    0.0        1  \n",
       "\n",
       "[3 rows x 81 columns]"
      ]
     },
     "execution_count": 8,
     "metadata": {},
     "output_type": "execute_result"
    }
   ],
   "source": [
    "# Selección de variables exógenas a incluir en el modelo\n",
    "# ==============================================================================\n",
    "exog_cols = []\n",
    "# Columnas que terminan con _seno o _coseno son seleccionadas\n",
    "exog_cols.extend(variables_exogenas.filter(regex='_seno$|_coseno$').columns.tolist())\n",
    "# Columnas que empiezan con festivo_ son seleccionadas\n",
    "exog_cols.extend(variables_exogenas.filter(regex='^festivo_.*').columns.tolist())\n",
    "exog_cols.extend(['FESTIVO'])\n",
    "\n",
    "variables_exogenas = variables_exogenas.filter(exog_cols, axis=1)\n",
    "variables_exogenas.head(3)"
   ]
  },
  {
   "cell_type": "code",
   "execution_count": 9,
   "id": "ed36b1b0-217b-4de9-831f-0d08b8ebad4e",
   "metadata": {},
   "outputs": [],
   "source": [
    "# Combinar variables exógenas y target en el mismo dataframe\n",
    "# ==============================================================================\n",
    "datos = datos[['CANTIDAD']].merge(\n",
    "    variables_exogenas,\n",
    "    left_index=True,\n",
    "    right_index=True,\n",
    "    how='left'\n",
    ")\n",
    "\n",
    "# Debido a la creación de medias móviles, hay valores NaN al principio de la serie.\n",
    "# Debido a holiday_dia_siguiente hay valores NaN al final de la serie.\n",
    "# Las columnas numéricas se convierten a float32.\n",
    "datos = datos.dropna()\n",
    "datos = datos.astype({col: np.float32 for col in datos.select_dtypes(\"number\").columns})\n",
    "datos_train = datos.loc[: fin_train, :].copy()\n",
    "datos_val   = datos.loc[fin_train:fin_val, :].copy()\n",
    "datos_test  = datos.loc[fin_val:, :].copy()"
   ]
  },
  {
   "cell_type": "markdown",
   "id": "cfdaf76d-82e5-460f-85b9-d21515a62ea8",
   "metadata": {},
   "source": [
    "## 2.b. Entrenamiento del modelo"
   ]
  },
  {
   "cell_type": "markdown",
   "id": "1e6f56bf-67fd-4419-a1f8-417c32f92ac8",
   "metadata": {},
   "source": [
    "**LGBMRegressor**"
   ]
  },
  {
   "cell_type": "code",
   "execution_count": 10,
   "id": "8cbcc334-fce1-4350-ab0b-4b5ff1043636",
   "metadata": {},
   "outputs": [
    {
     "name": "stderr",
     "output_type": "stream",
     "text": [
      "Best trial: 7. Best value: 2.10682: 100%|██████████| 20/20 [05:37<00:00, 16.87s/it]\n"
     ]
    },
    {
     "name": "stdout",
     "output_type": "stream",
     "text": [
      "`Forecaster` refitted using the best-found lags and parameters, and the whole data set: \n",
      "  Lags: [ 1  2  3  4  5  6  7  8  9 10 11 12 13 14 15 16 17 18 19 20 21 22 23 24\n",
      " 25 26 27 28 29 30 31 32 33 34 35 36 37 38 39 40 41 42 43 44 45 46 47 48] \n",
      "  Parameters: {'n_estimators': 1200, 'max_depth': 9, 'min_data_in_leaf': 195, 'learning_rate': 0.03135981726152987, 'feature_fraction': 0.6, 'max_bin': 125, 'reg_alpha': 0.7000000000000001, 'reg_lambda': 1.0}\n",
      "  Backtesting metric: 2.106815527364998\n",
      "\n",
      "CPU times: total: 20min 8s\n",
      "Wall time: 5min 42s\n"
     ]
    }
   ],
   "source": [
    "%%time\n",
    "\n",
    "# Búsqueda de hiperparámetros\n",
    "# ==============================================================================\n",
    "forecaster = ForecasterAutoreg(\n",
    "    regressor        = LGBMRegressor(random_state=15926, verbose=-1),\n",
    "    lags             = 24,\n",
    "    transformer_exog = transformer_exog,\n",
    "    fit_kwargs       = {\"categorical_feature\": \"auto\"}\n",
    ")\n",
    "\n",
    "# Lags grid\n",
    "lags_grid = [24, 48, 72, (1, 2, 3, 23, 24, 25, 167, 168, 169)]\n",
    "\n",
    "# Espacio de búsqueda de hiperparámetros\n",
    "def search_space(trial):\n",
    "    search_space  = {\n",
    "        'n_estimators'    : trial.suggest_int('n_estimators', 400, 1200, step=100),\n",
    "        'max_depth'       : trial.suggest_int('max_depth', 3, 10, step=1),\n",
    "        'min_data_in_leaf': trial.suggest_int('min_data_in_leaf', 25, 500),\n",
    "        'learning_rate'   : trial.suggest_float('learning_rate', 0.01, 0.5),\n",
    "        'feature_fraction': trial.suggest_float('feature_fraction', 0.5, 1, step=0.1),\n",
    "        'max_bin'         : trial.suggest_int('max_bin', 50, 250, step=25),\n",
    "        'reg_alpha'       : trial.suggest_float('reg_alpha', 0, 1, step=0.1),\n",
    "        'reg_lambda'      : trial.suggest_float('reg_lambda', 0, 1, step=0.1),\n",
    "        'lags'            : trial.suggest_categorical('lags', lags_grid)\n",
    "    } \n",
    "    return search_space\n",
    "\n",
    "results_search, frozen_trial = bayesian_search_forecaster(\n",
    "    forecaster         = forecaster,\n",
    "    y                  = datos.loc[:fin_val, 'CANTIDAD'],\n",
    "    exog               = datos.loc[:fin_val, exog_cols],\n",
    "    search_space       = search_space,\n",
    "    steps              = 8,\n",
    "    refit              = False,\n",
    "    metric             = 'mean_absolute_error',\n",
    "    initial_train_size = len(datos_train),\n",
    "    fixed_train_size   = False,\n",
    "    n_trials           = 20,\n",
    "    random_state       = 123,\n",
    "    return_best        = True,\n",
    "    n_jobs             = 'auto',\n",
    "    verbose            = False,\n",
    "    show_progress      = True\n",
    ")\n",
    "best_params = results_search['params'].iat[0]"
   ]
  },
  {
   "cell_type": "code",
   "execution_count": 11,
   "id": "f0f5c471-50e4-4458-91b3-95d76981e2f1",
   "metadata": {},
   "outputs": [
    {
     "name": "stderr",
     "output_type": "stream",
     "text": [
      "100%|██████████| 273/273 [00:10<00:00, 24.91it/s]\n"
     ]
    },
    {
     "data": {
      "text/html": [
       "<div>\n",
       "<style scoped>\n",
       "    .dataframe tbody tr th:only-of-type {\n",
       "        vertical-align: middle;\n",
       "    }\n",
       "\n",
       "    .dataframe tbody tr th {\n",
       "        vertical-align: top;\n",
       "    }\n",
       "\n",
       "    .dataframe thead th {\n",
       "        text-align: right;\n",
       "    }\n",
       "</style>\n",
       "<table border=\"1\" class=\"dataframe\">\n",
       "  <thead>\n",
       "    <tr style=\"text-align: right;\">\n",
       "      <th></th>\n",
       "      <th>mean_absolute_error</th>\n",
       "    </tr>\n",
       "  </thead>\n",
       "  <tbody>\n",
       "    <tr>\n",
       "      <th>0</th>\n",
       "      <td>2.713031</td>\n",
       "    </tr>\n",
       "  </tbody>\n",
       "</table>\n",
       "</div>"
      ],
      "text/plain": [
       "   mean_absolute_error\n",
       "0             2.713031"
      ]
     },
     "execution_count": 11,
     "metadata": {},
     "output_type": "execute_result"
    }
   ],
   "source": [
    "warnings.filterwarnings(\"ignore\", category=FutureWarning, message=\".*force_all_finite.*\")\n",
    "# Backtesting en los datos de test incluyendo las variables exógenas\n",
    "# ==============================================================================\n",
    "metrica_LGBMRegressor, predicciones_lgbm = backtesting_forecaster(\n",
    "    forecaster         = forecaster,\n",
    "    y                  = datos['CANTIDAD'],\n",
    "    exog               = datos[exog_cols],\n",
    "    steps              = 8,\n",
    "    metric             = 'mean_absolute_error',\n",
    "    initial_train_size = len(datos[:fin_val]),\n",
    "    refit              = False,\n",
    "    n_jobs             = 'auto',\n",
    "    verbose            = False,\n",
    "    show_progress      = True\n",
    ")\n",
    "metrica_LGBMRegressor"
   ]
  },
  {
   "cell_type": "markdown",
   "id": "b9585d54-cdf7-4ee4-8be9-6a532c7a1094",
   "metadata": {},
   "source": [
    "**XGBRegressor**"
   ]
  },
  {
   "cell_type": "code",
   "execution_count": 12,
   "id": "c22cd46b-9bee-4622-b749-38ca944817cd",
   "metadata": {},
   "outputs": [],
   "source": [
    "# Encoding ordinal + conversión a tipo category\n",
    "# ==============================================================================\n",
    "pipeline_categorical = make_pipeline(\n",
    "        OrdinalEncoder(\n",
    "            dtype=int,\n",
    "            handle_unknown=\"use_encoded_value\",\n",
    "            unknown_value=-1,\n",
    "            encoded_missing_value=-1\n",
    "        ),\n",
    "        FunctionTransformer(\n",
    "            func=lambda x: x.astype('category'),\n",
    "            feature_names_out= 'one-to-one'\n",
    "        )\n",
    "    )\n",
    "\n",
    "transformer_exog = make_column_transformer(\n",
    "    (\n",
    "        pipeline_categorical,\n",
    "        make_column_selector(dtype_exclude=np.number)\n",
    "    ),\n",
    "    remainder=\"passthrough\",\n",
    "    verbose_feature_names_out=False,\n",
    ").set_output(transform=\"pandas\")"
   ]
  },
  {
   "cell_type": "code",
   "execution_count": 13,
   "id": "0d9307fe-fc58-4b9b-9818-8bb46a29f120",
   "metadata": {},
   "outputs": [
    {
     "name": "stderr",
     "output_type": "stream",
     "text": [
      "Best trial: 12. Best value: 2.0557: 100%|██████████| 20/20 [09:33<00:00, 28.68s/it]\n"
     ]
    },
    {
     "name": "stdout",
     "output_type": "stream",
     "text": [
      "`Forecaster` refitted using the best-found lags and parameters, and the whole data set: \n",
      "  Lags: [ 1  2  3  4  5  6  7  8  9 10 11 12 13 14 15 16 17 18 19 20 21 22 23 24] \n",
      "  Parameters: {'n_estimators': 600, 'max_depth': 8, 'learning_rate': 0.012466309356226113, 'subsample': 0.9566174938835406, 'colsample_bytree': 0.950197921108696, 'gamma': 0.009720202192849692, 'reg_alpha': 0.003677635938921009, 'reg_lambda': 0.7462071981396059}\n",
      "  Backtesting metric: 2.0557006236393014\n",
      "\n",
      "CPU times: total: 59min 25s\n",
      "Wall time: 9min 50s\n"
     ]
    }
   ],
   "source": [
    "%%time\n",
    "# Crear forecaster\n",
    "# ==============================================================================\n",
    "forecaster = ForecasterAutoreg(\n",
    "    regressor        = XGBRegressor(tree_method=\"hist\", enable_categorical=True, random_state=123),\n",
    "    lags             = 24,\n",
    "    transformer_exog = transformer_exog,\n",
    ")\n",
    "\n",
    "\n",
    "def search_space(trial):\n",
    "    search_space  = {\n",
    "        'n_estimators'    : trial.suggest_int('n_estimators', 400, 1200, step=100),\n",
    "        'max_depth'       : trial.suggest_int('max_depth', 3, 10, step=1),\n",
    "        'learning_rate'   : trial.suggest_float('learning_rate', 0.01, 1),\n",
    "        'subsample'       : trial.suggest_float('subsample', 0.1, 1),\n",
    "        'colsample_bytree': trial.suggest_float('colsample_bytree', 0.1, 1),\n",
    "        'gamma'           : trial.suggest_float('gamma', 0, 1),\n",
    "        'reg_alpha'       : trial.suggest_float('reg_alpha', 0, 1),\n",
    "        'reg_lambda'      : trial.suggest_float('reg_lambda', 0, 1),\n",
    "        'lags'            : trial.suggest_categorical('lags', lags_grid)\n",
    "    } \n",
    "    return search_space\n",
    "\n",
    "results_search, frozen_trial = bayesian_search_forecaster(\n",
    "    forecaster         = forecaster,\n",
    "    y                  = datos.loc[:fin_val, 'CANTIDAD'],\n",
    "    exog               = datos.loc[:fin_val, exog_cols],\n",
    "    search_space       = search_space,\n",
    "    steps              = 8,\n",
    "    refit              = False,\n",
    "    metric             = 'mean_absolute_error',\n",
    "    initial_train_size = len(datos_train),\n",
    "    fixed_train_size   = False,\n",
    "    n_trials           = 20,\n",
    "    random_state       = 123,\n",
    "    return_best        = True,\n",
    "    n_jobs             = 'auto',\n",
    "    verbose            = False,\n",
    "    show_progress      = True\n",
    ")"
   ]
  },
  {
   "cell_type": "code",
   "execution_count": 14,
   "id": "2a02b1f8-aff6-48c5-b319-6b67e40a098e",
   "metadata": {},
   "outputs": [
    {
     "name": "stderr",
     "output_type": "stream",
     "text": [
      "100%|██████████| 273/273 [00:11<00:00, 24.62it/s]\n"
     ]
    },
    {
     "data": {
      "text/html": [
       "<div>\n",
       "<style scoped>\n",
       "    .dataframe tbody tr th:only-of-type {\n",
       "        vertical-align: middle;\n",
       "    }\n",
       "\n",
       "    .dataframe tbody tr th {\n",
       "        vertical-align: top;\n",
       "    }\n",
       "\n",
       "    .dataframe thead th {\n",
       "        text-align: right;\n",
       "    }\n",
       "</style>\n",
       "<table border=\"1\" class=\"dataframe\">\n",
       "  <thead>\n",
       "    <tr style=\"text-align: right;\">\n",
       "      <th></th>\n",
       "      <th>mean_absolute_error</th>\n",
       "    </tr>\n",
       "  </thead>\n",
       "  <tbody>\n",
       "    <tr>\n",
       "      <th>0</th>\n",
       "      <td>2.628752</td>\n",
       "    </tr>\n",
       "  </tbody>\n",
       "</table>\n",
       "</div>"
      ],
      "text/plain": [
       "   mean_absolute_error\n",
       "0             2.628752"
      ]
     },
     "execution_count": 14,
     "metadata": {},
     "output_type": "execute_result"
    }
   ],
   "source": [
    "# Backtesting con datos de test\n",
    "# ==============================================================================\n",
    "metrica_xgboost, predicciones = backtesting_forecaster(\n",
    "    forecaster         = forecaster,\n",
    "    y                  = datos['CANTIDAD'],\n",
    "    exog               = datos[exog_cols],\n",
    "    steps              = 8,\n",
    "    metric             = 'mean_absolute_error',\n",
    "    initial_train_size = len(datos[:fin_val]),\n",
    "    refit              = False,\n",
    "    n_jobs             = 'auto',\n",
    "    verbose            = False,\n",
    "    show_progress      = True\n",
    ")\n",
    "metrica_xgboost"
   ]
  },
  {
   "cell_type": "markdown",
   "id": "1981729e-b53a-4cf9-aada-b3eba43f9924",
   "metadata": {},
   "source": [
    "**CatBoost**"
   ]
  },
  {
   "cell_type": "code",
   "execution_count": 15,
   "id": "1bfd18d0-37f7-4166-9e05-f51d7761fde1",
   "metadata": {},
   "outputs": [],
   "source": [
    "# One hot encoding\n",
    "# ==============================================================================\n",
    "one_hot_encoder = make_column_transformer(\n",
    "    (\n",
    "        OneHotEncoder(sparse_output=False, drop='if_binary'),\n",
    "        make_column_selector(dtype_exclude=np.number),\n",
    "    ),\n",
    "    remainder=\"passthrough\",\n",
    "    verbose_feature_names_out=False,\n",
    ").set_output(transform=\"pandas\")\n",
    "\n",
    "# Crear forecaster\n",
    "# ==============================================================================\n",
    "forecaster = ForecasterAutoreg(\n",
    "    regressor = CatBoostRegressor(\n",
    "                    random_state=123, \n",
    "                    silent=True, \n",
    "                    allow_writing_files=False,\n",
    "                    boosting_type = 'Plain', # Faster training\n",
    "                    leaf_estimation_iterations = 3, # Faster training\n",
    "                ),\n",
    "    lags = 24,\n",
    "    transformer_exog = one_hot_encoder\n",
    ")"
   ]
  },
  {
   "cell_type": "code",
   "execution_count": 16,
   "id": "2cf7bd5b-d0cb-4fbe-a1f1-bc18487edadf",
   "metadata": {},
   "outputs": [
    {
     "name": "stderr",
     "output_type": "stream",
     "text": [
      "Best trial: 15. Best value: 2.10996: 100%|██████████| 20/20 [11:38<00:00, 34.94s/it]\n"
     ]
    },
    {
     "name": "stdout",
     "output_type": "stream",
     "text": [
      "`Forecaster` refitted using the best-found lags and parameters, and the whole data set: \n",
      "  Lags: [  1   2   3  23  24  25 167 168 169] \n",
      "  Parameters: {'n_estimators': 100, 'max_depth': 4, 'learning_rate': 0.4635401515831307}\n",
      "  Backtesting metric: 2.1099648124768238\n",
      "\n",
      "CPU times: total: 38min 22s\n",
      "Wall time: 11min 39s\n"
     ]
    }
   ],
   "source": [
    "%%time\n",
    "def search_space(trial):\n",
    "    search_space  = {\n",
    "        'n_estimators'  : trial.suggest_int('n_estimators', 100, 1000, step=100),\n",
    "        'max_depth'     : trial.suggest_int('max_depth', 3, 10, step=1),\n",
    "        'learning_rate' : trial.suggest_float('learning_rate', 0.01, 1),\n",
    "        'lags'          : trial.suggest_categorical('lags', lags_grid)\n",
    "    } \n",
    "    return search_space\n",
    "\n",
    "results_search, frozen_trial = bayesian_search_forecaster(\n",
    "    forecaster         = forecaster,\n",
    "    y                  = datos.loc[:fin_val, 'CANTIDAD'],\n",
    "    exog               = datos.loc[:fin_val, exog_cols],\n",
    "    search_space       = search_space,\n",
    "    steps              = 8,\n",
    "    refit              = False,\n",
    "    metric             = 'mean_absolute_error',\n",
    "    initial_train_size = len(datos_train),\n",
    "    fixed_train_size   = False,\n",
    "    n_trials           = 20,\n",
    "    random_state       = 123,\n",
    "    return_best        = True,\n",
    "    n_jobs             = 'auto',\n",
    "    verbose            = False,\n",
    "    show_progress      = True\n",
    ")"
   ]
  },
  {
   "cell_type": "code",
   "execution_count": 17,
   "id": "b1e6c490-794d-4338-972b-11ac247a1e0f",
   "metadata": {},
   "outputs": [
    {
     "name": "stderr",
     "output_type": "stream",
     "text": [
      "100%|██████████| 273/273 [00:07<00:00, 36.38it/s]\n"
     ]
    },
    {
     "data": {
      "text/html": [
       "<div>\n",
       "<style scoped>\n",
       "    .dataframe tbody tr th:only-of-type {\n",
       "        vertical-align: middle;\n",
       "    }\n",
       "\n",
       "    .dataframe tbody tr th {\n",
       "        vertical-align: top;\n",
       "    }\n",
       "\n",
       "    .dataframe thead th {\n",
       "        text-align: right;\n",
       "    }\n",
       "</style>\n",
       "<table border=\"1\" class=\"dataframe\">\n",
       "  <thead>\n",
       "    <tr style=\"text-align: right;\">\n",
       "      <th></th>\n",
       "      <th>mean_absolute_error</th>\n",
       "    </tr>\n",
       "  </thead>\n",
       "  <tbody>\n",
       "    <tr>\n",
       "      <th>0</th>\n",
       "      <td>2.644711</td>\n",
       "    </tr>\n",
       "  </tbody>\n",
       "</table>\n",
       "</div>"
      ],
      "text/plain": [
       "   mean_absolute_error\n",
       "0             2.644711"
      ]
     },
     "execution_count": 17,
     "metadata": {},
     "output_type": "execute_result"
    }
   ],
   "source": [
    "# Backtesting con datos de test\n",
    "# ==============================================================================\n",
    "metrica_catboost, predicciones = backtesting_forecaster(\n",
    "    forecaster         = forecaster,\n",
    "    y                  = datos['CANTIDAD'],\n",
    "    exog               = datos[exog_cols],\n",
    "    steps              = 8,\n",
    "    metric             = 'mean_absolute_error',\n",
    "    initial_train_size = len(datos[:fin_val]),\n",
    "    refit              = False,\n",
    "    n_jobs             = 'auto',\n",
    "    verbose            = False,\n",
    "    show_progress      = True\n",
    ")\n",
    "metrica_catboost"
   ]
  },
  {
   "cell_type": "code",
   "execution_count": 18,
   "id": "a85d8003-f7b1-4ce6-99d6-c3936c76edf8",
   "metadata": {},
   "outputs": [
    {
     "name": "stdout",
     "output_type": "stream",
     "text": [
      "Métrica LightGBM:    mean_absolute_error\n",
      "0             2.713031\n",
      "Métrica Xgboost:    mean_absolute_error\n",
      "0             2.628752\n",
      "Métrica Catboost:    mean_absolute_error\n",
      "0             2.644711\n"
     ]
    }
   ],
   "source": [
    "print(f'Métrica LightGBM: {metrica_LGBMRegressor}')\n",
    "print(f'Métrica Xgboost: {metrica_xgboost}')\n",
    "print(f'Métrica Catboost: {metrica_catboost}')"
   ]
  },
  {
   "cell_type": "markdown",
   "id": "c88d9ae7-d491-4c1d-bfe8-dabe7aa72414",
   "metadata": {},
   "source": [
    "## 2.c. Evaluación "
   ]
  },
  {
   "cell_type": "code",
   "execution_count": 19,
   "id": "af001aae-ffec-43e0-be7c-9aaff7b91ad6",
   "metadata": {},
   "outputs": [
    {
     "data": {
      "image/png": "[encoded data removed]",
      "text/plain": [
       "<IPython.core.display.Image object>"
      ]
     },
     "execution_count": 19,
     "metadata": {},
     "output_type": "execute_result"
    }
   ],
   "source": [
    "warnings.filterwarnings(\"ignore\", category=DeprecationWarning, message=\".*setDaemon.*\")\n",
    "# Gráfico predicciones vs valor real\n",
    "# ======================================================================================\n",
    "fig = go.Figure()\n",
    "trace1 = go.Scatter(x=datos_test.index, y=datos_test['CANTIDAD'], name=\"test\", mode=\"lines\")\n",
    "trace2 = go.Scatter(x=predicciones_lgbm.index, y=predicciones_lgbm['pred'], name=\"prediction\", mode=\"lines\")\n",
    "fig.add_trace(trace1)\n",
    "fig.add_trace(trace2)\n",
    "fig.update_layout(\n",
    "    title=\"Predicción vs valor real en los datos de test de la estación 494\",\n",
    "    xaxis_title=\"Fecha\",\n",
    "    yaxis_title=\"Cantidad de bicicletas disponibles\",\n",
    "    width=800,\n",
    "    height=350,\n",
    "    margin=dict(l=20, r=20, t=35, b=20),\n",
    "    legend=dict(\n",
    "        orientation=\"h\",\n",
    "        yanchor=\"top\",\n",
    "        y=1.1,\n",
    "        xanchor=\"left\",\n",
    "        x=0.001\n",
    "    )\n",
    ")\n",
    "# fig.show() # Muestra la imagen en formato interactivo\n",
    "\n",
    "static_image = pio.to_image(fig, format=\"png\", engine=\"kaleido\")\n",
    "Image(static_image) # Muestra la imagen estática"
   ]
  },
  {
   "cell_type": "code",
   "execution_count": 20,
   "id": "1dbb12ef-369d-46d3-b3d3-68a110445940",
   "metadata": {},
   "outputs": [
    {
     "data": {
      "image/png": "[encoded data removed]",
      "text/plain": [
       "<IPython.core.display.Image object>"
      ]
     },
     "execution_count": 20,
     "metadata": {},
     "output_type": "execute_result"
    }
   ],
   "source": [
    "# Gráfico predicciones vs valor real\n",
    "# ======================================================================================\n",
    "fig = go.Figure()\n",
    "trace1 = go.Scatter(x=datos_test.index[0:168], y=datos_test['CANTIDAD'][0:168], name=\"test\", mode=\"lines\")\n",
    "trace2 = go.Scatter(x=predicciones_lgbm.index[0:168], y=predicciones_lgbm['pred'][0:168], name=\"prediction\", mode=\"lines\")\n",
    "fig.add_trace(trace1)\n",
    "fig.add_trace(trace2)\n",
    "fig.update_layout(\n",
    "    title=\"Predicción vs valor real en los datos de test de la estación 494\",\n",
    "    xaxis_title=\"Fecha\",\n",
    "    yaxis_title=\"Cantidad de bicicletas disponibles\",\n",
    "    width=800,\n",
    "    height=350,\n",
    "    margin=dict(l=20, r=20, t=35, b=20),\n",
    "    legend=dict(\n",
    "        orientation=\"h\",\n",
    "        yanchor=\"top\",\n",
    "        y=1.1,\n",
    "        xanchor=\"left\",\n",
    "        x=0.001\n",
    "    )\n",
    ")\n",
    "# fig.write_image(\"predicción_494.png\")\n",
    "# fig.show() # Muestra la imagen en formato interactivo\n",
    "\n",
    "static_image = pio.to_image(fig, format=\"png\", engine=\"kaleido\")\n",
    "Image(static_image) # Muestra la imagen estática"
   ]
  }
 ],
 "metadata": {
  "kernelspec": {
   "display_name": "Python 3",
   "language": "python",
   "name": "python3"
  },
  "language_info": {
   "codemirror_mode": {
    "name": "ipython",
    "version": 3
   },
   "file_extension": ".py",
   "mimetype": "text/x-python",
   "name": "python",
   "nbconvert_exporter": "python",
   "pygments_lexer": "ipython3",
   "version": "3.11.9"
  }
 },
 "nbformat": 4,
 "nbformat_minor": 5
}
