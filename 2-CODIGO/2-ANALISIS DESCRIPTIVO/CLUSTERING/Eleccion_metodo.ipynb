{
 "cells": [
  {
   "cell_type": "markdown",
   "id": "88a5fe97-7f57-4d3f-b365-ebc5f8151b7c",
   "metadata": {},
   "source": [
    "# ELECCIÓN VARIANTE DEL MÉTODO *K-MEANS*\n",
    "En este *notebooK* se analiza la capacidad del método *K-Means* para agrupar series temporales en función de sus patrones de demanda, considerando diferentes variantes del algoritmo. Para evaluar la calidad de la separación entre los grupos formados, se utiliza el coeficiente de silueta."
   ]
  },
  {
   "cell_type": "code",
   "execution_count": 8,
   "id": "45f49842-f24c-426a-b4d8-a89e68771c49",
   "metadata": {},
   "outputs": [],
   "source": [
    "import warnings \n",
    "# Suppress all warnings\n",
    "warnings.filterwarnings(\"ignore\")\n",
    "\n",
    "import pandas as pd\n",
    "import numpy as np\n",
    "import matplotlib.pyplot as plt\n",
    "from tslearn.clustering import TimeSeriesKMeans\n",
    "from tslearn.metrics import dtw\n",
    "from tslearn.preprocessing import TimeSeriesScalerMeanVariance\n",
    "import seaborn as sns\n",
    "import plotly.express as px\n",
    "from tslearn.clustering import TimeSeriesKMeans, KShape, silhouette_score\n",
    "import numpy as np\n",
    "from tslearn.metrics import cdist_dtw\n",
    "import time"
   ]
  },
  {
   "cell_type": "code",
   "execution_count": 9,
   "id": "c1636170-b76e-4cb2-89d4-d4b4856dbfe3",
   "metadata": {},
   "outputs": [],
   "source": [
    "datos = pd.read_csv('../../../1-DATOS/3-DATOS DE RESULTADOS/ANALISIS DESCRIPTIVO/medias_semanales_por_hora.csv', index_col=[0, 1], header=0)"
   ]
  },
  {
   "cell_type": "code",
   "execution_count": 10,
   "id": "1438bec4-af7c-4b39-bf5d-ab3397fa064f",
   "metadata": {},
   "outputs": [
    {
     "name": "stdout",
     "output_type": "stream",
     "text": [
      "0.3188196219609453\n",
      "0.19877393289258227\n",
      "0.14266623848173166\n",
      "CPU times: total: 17min 1s\n",
      "Wall time: 6min 6s\n"
     ]
    }
   ],
   "source": [
    "%%time\n",
    "\n",
    "# Escalar las series para estandarizar su media y varianza\n",
    "scaler = TimeSeriesScalerMeanVariance()\n",
    "datos_scaled = scaler.fit_transform(datos.T)  \n",
    "\n",
    "# Método K-means, diferente métrica\n",
    "km = TimeSeriesKMeans(n_clusters=3, metric=\"euclidean\", max_iter=5, random_state=0)\n",
    "labels_euclidean = km.fit_predict(datos_scaled)\n",
    "\n",
    "km_dba = TimeSeriesKMeans(n_clusters=3, metric=\"dtw\", max_iter=5, max_iter_barycenter=5, random_state=0)\n",
    "labels_dtw = km_dba.fit_predict(datos_scaled)\n",
    "\n",
    "km_sdtw = TimeSeriesKMeans(n_clusters=3, metric=\"softdtw\", max_iter=5, max_iter_barycenter=5,\n",
    "                           metric_params={\"gamma\": .5}, random_state=0)\n",
    "labels_softdtw = km_sdtw.fit_predict(datos_scaled)\n",
    "\n",
    "# Cálculo del coeficiente de silueta\n",
    "print(silhouette_score(datos_scaled, labels_euclidean, metric=\"euclidean\"))\n",
    "print(silhouette_score(datos_scaled, labels_softdtw, metric=\"softdtw\"))\n",
    "\n",
    "# Cálculo de distancias DTW precomputadas para el coeficiente de silueta\n",
    "distances_dtw = cdist_dtw(datos_scaled)\n",
    "print(silhouette_score(distances_dtw, labels_dtw, metric=\"precomputed\"))"
   ]
  }
 ],
 "metadata": {
  "kernelspec": {
   "display_name": "TFM_ENVIRONMENT_11",
   "language": "python",
   "name": "python3"
  },
  "language_info": {
   "codemirror_mode": {
    "name": "ipython",
    "version": 3
   },
   "file_extension": ".py",
   "mimetype": "text/x-python",
   "name": "python",
   "nbconvert_exporter": "python",
   "pygments_lexer": "ipython3",
   "version": "3.11.9"
  }
 },
 "nbformat": 4,
 "nbformat_minor": 5
}
